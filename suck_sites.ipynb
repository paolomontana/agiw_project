{
 "cells": [
  {
   "cell_type": "code",
   "execution_count": null,
   "metadata": {},
   "outputs": [],
   "source": [
    "import json\n",
    "import os\n",
    "import shutil\n",
    "import requests\n",
    "\n",
    "with open('file.json', 'r') as f:\n",
    "    array = json.load(f)\n",
    "    \n",
    "headers = {'user-agent': 'Mozilla/5.0 (Linux; Android 4.0.4; Galaxy Nexus Build/IMM76B) AppleWebKit/535.19 (KHTML, like Gecko) Chrome/18.0.1025.133 Mobile Safari/535.19'}\n",
    "\n",
    "for key, value in array.items():\n",
    "    if not os.path.exists(\"site/\"+key):\n",
    "        os.makedirs(\"site/\"+key)#create directory\n",
    "        #shutil.rmtree(key) #remove directory\n",
    "        with open(\"output.txt\", \"a\") as myfile: #file di output \n",
    "            \n",
    "            myfile.write(\"\\n\\n<------ \"+key+\" ------>\\n\\n\") # per ogni sito scrivo la testata nel file di output\n",
    "            \n",
    "            for i in range(len(value)):\n",
    "                r = requests.get(value[i],headers=headers)\n",
    "           \n",
    "                if r.status_code == 503:\n",
    "                    myfile.write(str(i)+\" -> 503\\n\")\n",
    "              \n",
    "                elif r.status_code == 404:\n",
    "                    myfile.write(str(i)+\" -> 404\\n\")\n",
    "                \n",
    "                else:\n",
    "                    myfile.write(str(i)+\" ->\" +value[i]+\"\\n\")\n",
    "                \n",
    "                completeName = os.path.join(\"site/\"+key, str(i)+\".txt\")\n",
    "                with open(completeName, 'wb') as outfile: #scrivo la risposta della get sulla singole pagina su file\n",
    "                    outfile.write(r.content)\n",
    "            \n",
    "        \n",
    "        \n",
    "            \n",
    "           \n",
    "        \n",
    "        \n",
    "        \n",
    "        \n",
    "        \n",
    "        "
   ]
  },
  {
   "cell_type": "code",
   "execution_count": null,
   "metadata": {
    "collapsed": true
   },
   "outputs": [],
   "source": []
  },
  {
   "cell_type": "code",
   "execution_count": null,
   "metadata": {
    "collapsed": true
   },
   "outputs": [],
   "source": []
  }
 ],
 "metadata": {
  "kernelspec": {
   "display_name": "Python 3",
   "language": "python",
   "name": "python3"
  },
  "language_info": {
   "codemirror_mode": {
    "name": "ipython",
    "version": 3
   },
   "file_extension": ".py",
   "mimetype": "text/x-python",
   "name": "python",
   "nbconvert_exporter": "python",
   "pygments_lexer": "ipython3",
   "version": "3.6.3"
  }
 },
 "nbformat": 4,
 "nbformat_minor": 2
}
